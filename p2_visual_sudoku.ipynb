{
 "cells": [
  {
   "cell_type": "code",
   "execution_count": 3,
   "metadata": {},
   "outputs": [],
   "source": [
    "# Import necessary packages\n",
    "%matplotlib inline\n",
    "%config InlineBackend.figure_format = 'retina'\n",
    "\n",
    "import os\n",
    "import numpy as np\n",
    "import torch\n",
    "import torchvision\n",
    "import matplotlib.pyplot as plt\n",
    "from time import time"
   ]
  },
  {
   "cell_type": "markdown",
   "metadata": {},
   "source": [
    "## Saving a classifier\n",
    "\n",
    "In this notebook, we will use the classifier that you built in p1.\n",
    "\n",
    "Hence, first go to that notebook and _export_ the classifier you built there, by adding the following code in that notebook:\n"
   ]
  },
  {
   "cell_type": "code",
   "execution_count": null,
   "metadata": {},
   "outputs": [],
   "source": [
    "# TODO: Maxime?"
   ]
  },
  {
   "cell_type": "markdown",
   "metadata": {},
   "source": [
    "## Loading a pre-trained classifier\n",
    "\n",
    "Now, we can load that pre-trained classifier in this notebook as follows:"
   ]
  },
  {
   "cell_type": "code",
   "execution_count": null,
   "metadata": {},
   "outputs": [],
   "source": [
    "# TODO: Maxime?"
   ]
  },
  {
   "cell_type": "markdown",
   "metadata": {},
   "source": [
    "## Recap: solving a sudoku based on the predictions\n",
    "\n",
    "In the following, we repeat the code of the previous notebook for sampling a sudoku and getting predictions.\n",
    "\n",
    "We also included example _ortools_ code that solves the sudoku problem _(requires to install ortools, e.g. conda install ortools)_"
   ]
  },
  {
   "cell_type": "code",
   "execution_count": 4,
   "metadata": {},
   "outputs": [
    {
     "ename": "NameError",
     "evalue": "name 'trainset' is not defined",
     "output_type": "error",
     "traceback": [
      "\u001b[0;31m---------------------------------------------------------------------------\u001b[0m",
      "\u001b[0;31mNameError\u001b[0m                                 Traceback (most recent call last)",
      "\u001b[0;32m<ipython-input-4-c267e9d026d1>\u001b[0m in \u001b[0;36m<module>\u001b[0;34m()\u001b[0m\n\u001b[1;32m     37\u001b[0m     \u001b[0;32mreturn\u001b[0m \u001b[0mpredsudoku\u001b[0m\u001b[0;34m.\u001b[0m\u001b[0mreshape\u001b[0m\u001b[0;34m(\u001b[0m\u001b[0;34m(\u001b[0m\u001b[0;36m9\u001b[0m\u001b[0;34m,\u001b[0m\u001b[0;36m9\u001b[0m\u001b[0;34m)\u001b[0m\u001b[0;34m)\u001b[0m\u001b[0;34m\u001b[0m\u001b[0;34m\u001b[0m\u001b[0m\n\u001b[1;32m     38\u001b[0m \u001b[0;34m\u001b[0m\u001b[0m\n\u001b[0;32m---> 39\u001b[0;31m \u001b[0mvizsudoku_idx\u001b[0m \u001b[0;34m=\u001b[0m \u001b[0msample_visual_sudoku\u001b[0m\u001b[0;34m(\u001b[0m\u001b[0msudoku_p0\u001b[0m\u001b[0;34m,\u001b[0m \u001b[0mtrainset\u001b[0m\u001b[0;34m)\u001b[0m\u001b[0;34m\u001b[0m\u001b[0;34m\u001b[0m\u001b[0m\n\u001b[0m\u001b[1;32m     40\u001b[0m \u001b[0mpreds\u001b[0m \u001b[0;34m=\u001b[0m \u001b[0mpredict_sudoku\u001b[0m\u001b[0;34m(\u001b[0m\u001b[0mmodel\u001b[0m\u001b[0;34m,\u001b[0m \u001b[0mvizsudoku_idx\u001b[0m\u001b[0;34m,\u001b[0m \u001b[0mtrainset\u001b[0m\u001b[0;34m)\u001b[0m\u001b[0;34m\u001b[0m\u001b[0;34m\u001b[0m\u001b[0m\n",
      "\u001b[0;31mNameError\u001b[0m: name 'trainset' is not defined"
     ]
    }
   ],
   "source": [
    "# sudoku's, from http://hakank.org/minizinc/sudoku_problems2/index.html\n",
    "\n",
    "sudoku_p0 = torch.IntTensor([[0,0,0, 2,0,5, 0,0,0],\n",
    "                             [0,9,0, 0,0,0, 7,3,0],\n",
    "                             [0,0,2, 0,0,9, 0,6,0],\n",
    "                             [2,0,0, 0,0,0, 4,0,9],\n",
    "                             [0,0,0, 0,7,0, 0,0,0],\n",
    "                             [6,0,9, 0,0,0, 0,0,1],\n",
    "                             [0,8,0, 4,0,0, 1,0,0],\n",
    "                             [0,6,3, 0,0,0, 0,8,0],\n",
    "                             [0,0,0, 6,0,8, 0,0,0]])\n",
    "\n",
    "# sample a dataset index with that value/label\n",
    "def sample_by_label(dataset, value):\n",
    "    # primitive but it works...\n",
    "    idxs = torch.randperm(len(dataset))\n",
    "    for idx in idxs:\n",
    "        if dataset.targets[idx] == value:\n",
    "            return idx\n",
    "# sample a dataset index for each non-zero number\n",
    "def sample_visual_sudoku(sudoku_p, dataset):\n",
    "    nonzero = sudoku_p > 0\n",
    "    vizsudoku = -torch.ones(sudoku_p.shape, dtype=torch.long)\n",
    "    vizsudoku[nonzero] = torch.LongTensor([sample_by_label(trainset, value) for value in sudoku_p[nonzero]])\n",
    "    return vizsudoku\n",
    "# get predictions\n",
    "def predict_sudoku(model, vizsudoku_idx, dataset):\n",
    "    nonzero = vizsudoku_idx > -1\n",
    "    predsudoku = torch.zeros(vizsudoku_idx.shape, dtype=torch.int32)\n",
    "    images = trainset.data[vizsudoku_idx[nonzero]]\n",
    "    images = images.view(images.shape[0], -1).type(torch.float)\n",
    "    # images.shape (23,784)\n",
    "    with torch.no_grad():\n",
    "        probs = model(images).exp()\n",
    "        preds = torch.argmax(probs, dim=1)\n",
    "        predsudoku[nonzero] = preds\n",
    "    return predsudoku.reshape((9,9))\n",
    "\n",
    "vizsudoku_idx = sample_visual_sudoku(sudoku_p0, trainset)\n",
    "preds = predict_sudoku(model, vizsudoku_idx, trainset)"
   ]
  },
  {
   "cell_type": "code",
   "execution_count": 15,
   "metadata": {},
   "outputs": [
    {
     "data": {
      "text/plain": [
       "[[1, 2, 3, 4, 5, 6, 7, 8, 9],\n",
       " [4, 5, 6, 7, 8, 9, 1, 2, 3],\n",
       " [7, 8, 9, 1, 2, 3, 4, 5, 6],\n",
       " [2, 1, 4, 3, 6, 5, 8, 9, 7],\n",
       " [3, 6, 5, 8, 9, 7, 2, 1, 4],\n",
       " [8, 9, 7, 2, 1, 4, 3, 6, 5],\n",
       " [5, 3, 1, 6, 4, 2, 9, 7, 8],\n",
       " [6, 4, 2, 9, 7, 8, 5, 3, 1],\n",
       " [9, 7, 8, 5, 3, 1, 6, 4, 2]]"
      ]
     },
     "execution_count": 15,
     "metadata": {},
     "output_type": "execute_result"
    }
   ],
   "source": [
    "from ortools.sat.python import cp_model\n",
    "\n",
    "# model and solve a sudoku with ortools\n",
    "def model_sudoku_ort(grid):\n",
    "        csp = cp_model.CpModel()\n",
    "\n",
    "        # init vars\n",
    "        board = [[csp.NewIntVar(1, 9, 'x_%i%i' % (i,j)) for j in range(9)] for i in range(9)]\n",
    "        \n",
    "        # assign knowns\n",
    "        for i in range(9):\n",
    "            for j in range(9):\n",
    "                if preds[i,j] != 0:\n",
    "                    csp.Add(board[i,j] == preds[i,j])\n",
    "        \n",
    "        \n",
    "        for i in range(9):\n",
    "            csp.AddAllDifferent(board[i]) # all different rows\n",
    "            csp.AddAllDifferent([board[k][i] for k in range(9)]) # all different columns\n",
    "        \n",
    "        # all different cells\n",
    "        for si in range(3):\n",
    "            for sj in range(3):\n",
    "                csp.AddAllDifferent([board[3*si+i][3*sj+j] for j in range(3) for i in range(3)])\n",
    "    \n",
    "        return (board,csp)\n",
    "\n",
    "def solve_sudoku_ort(grid):\n",
    "    # the constraint model\n",
    "    (board,csp) = model_sudoku_ort(grid)\n",
    "    \n",
    "    solver = cp_model.CpSolver()\n",
    "    status = solver.Solve(csp) # or similar?\n",
    "    \n",
    "    if status != cp_model.INFEASIBLE:\n",
    "        return [[solver.Value(board[i][j]) for j in range(9)] for i in range(9)]\n",
    "\n",
    "sol = solve_sudoku_ort(preds.tolist())\n",
    "sol"
   ]
  },
  {
   "cell_type": "markdown",
   "metadata": {},
   "source": [
    "## Finding the maximum likelihood solution\n",
    "\n",
    "As errors in the output may lead to infeasible sudoku's, we are going to want to find the _maximum likelihood_ solution.\n",
    "\n",
    "First, we read and store the prediction probabilities instead of the predictions. We obtain a 9x9x9 tensor (last dimension = probabilities of digit 1..9)\n"
   ]
  },
  {
   "cell_type": "code",
   "execution_count": null,
   "metadata": {},
   "outputs": [],
   "source": [
    "# get probabilities of predictions\n",
    "def predict_proba_sudoku(model, vizsudoku_idx, dataset):\n",
    "    nonzero = vizsudoku_idx > -1\n",
    "    probsudoku = torch.zeros((9,9,9))\n",
    "    images = trainset.data[vizsudoku_idx[nonzero]]\n",
    "    images = images.view(images.shape[0], -1).type(torch.float)\n",
    "    # images.shape (23,784)\n",
    "    with torch.no_grad():\n",
    "        probs = model(images).exp()\n",
    "        predsudoku[nonzero] = probs\n",
    "    return predsudoku.reshape((9,9,9))\n",
    "\n",
    "predict_proba_sudoku(model, vizsudoku_idx, trainset)"
   ]
  },
  {
   "cell_type": "markdown",
   "metadata": {},
   "source": [
    "## Maximum likelihood estimation with standard CP solver\n",
    "\n",
    "We need to turn the _satisfaction_ problem of sudoku into an _optimisation_ problem, where we optimize for maximum log likelihood.\n",
    "\n",
    "__Task: adapt the above code to find the maximum likelihood visual sudoku solution!__\n",
    "\n",
    "This means adding the objective function: a weighted sum of the decision variables, with as weight the log-probability of that decision variable being equal to the corresponding predicted value.\n",
    "\n",
    "E.g. \\sum_i \\sum_j \\sum_c log(prob[i,j,c])*[V[i,j] == c]\n",
    "\n",
    "Note that the only thing that changes is adding the objective, so you can reuse model_sudoku_ort() of an empty grid!!"
   ]
  },
  {
   "cell_type": "code",
   "execution_count": null,
   "metadata": {},
   "outputs": [],
   "source": [
    "def solve_vizsudoku_ort(probs):\n",
    "    # the constraint model\n",
    "    empty_grid = torch.zeros((9,9), dtype=torch.int).tolist()\n",
    "    csp = model_sudoku_ort(empty_grid)\n",
    "    \n",
    "    # TODO: add the objective function!!\n",
    "    \n",
    "    solver = cp_model.CpSolver()\n",
    "    status = solver.solve(csp) # or similar?\n",
    "        \n",
    "    if status != None: # todo, actual status check\n",
    "        return board # or its values\n",
    "\n",
    "probs = predict_proba_sudoku(model, vizsudoku_idx, trainset)\n",
    "psol = solve_vizsudoku_ort(probs)\n",
    "psol"
   ]
  },
  {
   "cell_type": "markdown",
   "metadata": {},
   "source": [
    "Let's check what the error is now...\n",
    "\n",
    "# Maxime, can you add visualizers? thx...\n",
    "You will need to solve the true labels to get the full 'true' solution I think..."
   ]
  }
 ],
 "metadata": {
  "kernelspec": {
   "display_name": "Python 3",
   "language": "python",
   "name": "python3"
  },
  "language_info": {
   "codemirror_mode": {
    "name": "ipython",
    "version": 3
   },
   "file_extension": ".py",
   "mimetype": "text/x-python",
   "name": "python",
   "nbconvert_exporter": "python",
   "pygments_lexer": "ipython3",
   "version": "3.7.3"
  }
 },
 "nbformat": 4,
 "nbformat_minor": 2
}
