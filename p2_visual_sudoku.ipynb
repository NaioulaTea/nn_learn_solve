{
 "cells": [
  {
   "cell_type": "code",
   "execution_count": null,
   "metadata": {},
   "outputs": [],
   "source": [
    "%matplotlib inline\n",
    "%config InlineBackend.figure_format = 'retina'\n",
    "import matplotlib.pyplot as plt\n",
    "import torch\n",
    "import torch.nn as nn\n",
    "from torchvision import datasets, transforms\n",
    "from torch.utils.data import Subset\n",
    "import torch.nn.functional as F\n",
    "import numpy as np"
   ]
  },
  {
   "cell_type": "markdown",
   "metadata": {},
   "source": [
    "## Saving a classifier\n",
    "\n",
    "In this notebook, we will use the classifier that you built in p1.\n",
    "\n",
    "Hence, first go to that notebook and _export_ the classifier you built there, by adding the following code in that notebook:\n"
   ]
  },
  {
   "cell_type": "code",
   "execution_count": null,
   "metadata": {},
   "outputs": [],
   "source": [
    "#torch.save(model.state_dict(), name)"
   ]
  },
  {
   "cell_type": "code",
   "execution_count": null,
   "metadata": {},
   "outputs": [],
   "source": [
    "class LeNet(nn.Module):\n",
    "    def __init__(self, calibrated=False):\n",
    "        super(LeNet, self).__init__()\n",
    "        self.conv1 = nn.Conv2d(1, 6, 5, 1, padding=2)\n",
    "        self.conv2 = nn.Conv2d(6, 16, 5, 1)\n",
    "        self.fc1 = nn.Linear(5*5*16, 120)\n",
    "        self.fc2 = nn.Linear(120, 84)\n",
    "        self.fc3 = nn.Linear(84,10)\n",
    "\n",
    "    def forward(self, x):\n",
    "        x = F.relu(self.conv1(x))\n",
    "        x = F.max_pool2d(x, 2, 2)\n",
    "        x = F.relu(self.conv2(x))\n",
    "        x = F.max_pool2d(x, 2, 2)\n",
    "        x = x.view(-1, 5*5*16) \n",
    "        x = F.relu(self.fc1(x))\n",
    "        x = self.fc2(x)\n",
    "        x = self.fc3(x)\n",
    "        return F.log_softmax(x, dim=1)\n",
    "\n"
   ]
  },
  {
   "cell_type": "markdown",
   "metadata": {},
   "source": [
    "## Loading a pre-trained classifier\n",
    "\n",
    "Now, we can load that pre-trained classifier in this notebook as follows:"
   ]
  },
  {
   "cell_type": "code",
   "execution_count": null,
   "metadata": {},
   "outputs": [],
   "source": [
    "\n",
    "def load_clf(clf_classname, path):\n",
    "    net = clf_classname()\n",
    "    state_dict = torch.load(path, map_location=lambda storage, loc: storage)\n",
    "    net.load_state_dict(state_dict)\n",
    "    return net\n",
    "\n",
    "model = load_clf(LeNet, 'LeNet.pt')"
   ]
  },
  {
   "cell_type": "code",
   "execution_count": null,
   "metadata": {},
   "outputs": [],
   "source": [
    "# Define a transform to normalize the data\n",
    "transform = transforms.Compose([transforms.ToTensor(),\n",
    "                              transforms.Normalize((0.5,), (0.5,)),\n",
    "                              ])\n",
    "\n",
    "# Download and load the training data\n",
    "trainset = datasets.MNIST('.', download=True, train=True, transform=transform)\n",
    "testset = datasets.MNIST('.', download=True, train=False, transform=transform)\n",
    "trainloader = torch.utils.data.DataLoader(trainset, batch_size=128, shuffle=True)\n",
    "testloader = torch.utils.data.DataLoader(testset, batch_size=128, shuffle=True)"
   ]
  },
  {
   "cell_type": "markdown",
   "metadata": {},
   "source": [
    "## Recap: solving a sudoku based on the predictions\n",
    "\n",
    "In the following, we repeat the code of the previous notebook for sampling a sudoku and getting predictions.\n",
    "\n",
    "We also included example _ortools_ code that solves the sudoku problem _(requires to install ortools, e.g. conda install ortools)_"
   ]
  },
  {
   "cell_type": "code",
   "execution_count": null,
   "metadata": {},
   "outputs": [],
   "source": [
    "# sample a dataset index with that value/label\n",
    "def sample_by_label(labels, value):\n",
    "    # primitive but it works...\n",
    "    idxs = torch.randperm(len(labels))\n",
    "    for idx in idxs:\n",
    "        if labels[idx] == value:\n",
    "            return idx\n",
    "# sample a dataset index for each non-zero number\n",
    "def sample_visual_sudoku(sudoku_p, loader):\n",
    "    for (images, labels) in loader: # sample one batch\n",
    "        nonzero = sudoku_p > 0\n",
    "        vizsudoku = torch.zeros((9,9,1,28,28), dtype=images.dtype)\n",
    "        idxs = torch.LongTensor([sample_by_label(labels, value) for value in sudoku_p[nonzero]])\n",
    "        vizsudoku[nonzero] = images[idxs]\n",
    "        return vizsudoku\n",
    "    \n",
    "#vizsudoku = sample_visual_sudoku(sudoku_p0, testloader)"
   ]
  },
  {
   "cell_type": "code",
   "execution_count": null,
   "metadata": {},
   "outputs": [],
   "source": [
    "# sudoku's, from http://hakank.org/minizinc/sudoku_problems2/index.html\n",
    "\n",
    "sudoku_p0 = torch.IntTensor([[0,0,0, 2,0,5, 0,0,0],\n",
    "                             [0,9,0, 0,0,0, 7,3,0],\n",
    "                             [0,0,2, 0,0,9, 0,6,0],\n",
    "                             [2,0,0, 0,0,0, 4,0,9],\n",
    "                             [0,0,0, 0,7,0, 0,0,0],\n",
    "                             [6,0,9, 0,0,0, 0,0,1],\n",
    "                             [0,8,0, 4,0,0, 1,0,0],\n",
    "                             [0,6,3, 0,0,0, 0,8,0],\n",
    "                             [0,0,0, 6,0,8, 0,0,0]])\n",
    "                            \n"
   ]
  },
  {
   "cell_type": "code",
   "execution_count": null,
   "metadata": {},
   "outputs": [],
   "source": [
    "from ortools.sat.python import cp_model\n",
    "\n",
    "# model and solve a sudoku with ortools\n",
    "def model_sudoku_ort(grid):\n",
    "        csp = cp_model.CpModel()\n",
    "\n",
    "        # init vars\n",
    "        board = [[csp.NewIntVar(1, 9, 'x_%i%i' % (i,j)) for j in range(9)] for i in range(9)]\n",
    "        \n",
    "        # assign knowns\n",
    "        for i in range(9):\n",
    "            for j in range(9):\n",
    "                if grid[i,j] != 0:\n",
    "                    csp.Add(board[i][j] == grid[i,j].item())\n",
    "        \n",
    "        # all different rows\n",
    "        for i in range(9):\n",
    "            csp.AddAllDifferent(board[i])\n",
    "        \n",
    "        # all different columns\n",
    "        for j in range(9):\n",
    "            csp.AddAllDifferent([board[i][j] for i in range(9)])\n",
    "        \n",
    "        # all different cells\n",
    "        for si in range(3):\n",
    "            for sj in range(3):\n",
    "                csp.AddAllDifferent([board[3*si+i][3*sj+j] for j in range(3) for i in range(3)])\n",
    "        \n",
    "        return csp, board\n",
    "def solve_sudoku_ort(grid):\n",
    "    # the constraint model and decision vars\n",
    "    csp, x = model_sudoku_ort(grid)\n",
    "    \n",
    "    solver = cp_model.CpSolver()\n",
    "    status = solver.Solve(csp) # or similar?\n",
    "    solution = np.zeros((9,9))\n",
    "    if status == cp_model.OPTIMAL or status == cp_model.FEASIBLE :\n",
    "\n",
    "        for i in range(9):\n",
    "            for j in range(9):\n",
    "                solution[i,j] = int(solver.Value(x[i][j]))\n",
    "        return solution \n",
    "\n",
    "sol = solve_sudoku_ort(sudoku_p0)\n",
    "sol"
   ]
  },
  {
   "cell_type": "markdown",
   "metadata": {},
   "source": [
    "## Finding the maximum likelihood solution\n",
    "\n",
    "As errors in the output may lead to infeasible sudoku's, we are going to want to find the _maximum likelihood_ solution.\n",
    "\n",
    "First, we read and store the prediction probabilities instead of the predictions. We obtain a 9x9x9 tensor (last dimension = probabilities of digit 1..9)\n"
   ]
  },
  {
   "cell_type": "code",
   "execution_count": null,
   "metadata": {},
   "outputs": [],
   "source": [
    "# get probabilities of predictions\n",
    "def predict_proba_sudoku(model, vizsudoku):\n",
    "    # reshape from 9x9x28x28 to 81x1x28x28\n",
    "    pred = model(vizsudoku.flatten(0,1))\n",
    "    # our NN return 81 probabilistic vector: an 81x10 matrix\n",
    "    return pred.reshape(9,9,10).detach() # reshape as 9x9x19 tensor for easier visualisation\n"
   ]
  },
  {
   "cell_type": "markdown",
   "metadata": {},
   "source": [
    "## Maximum likelihood estimation with standard CP solver\n",
    "\n",
    "We need to turn the _satisfaction_ problem of sudoku into an _optimisation_ problem, where we optimize for maximum log likelihood.\n",
    "\n",
    "__Task: adapt the above code to find the maximum likelihood visual sudoku solution!__\n",
    "\n",
    "This means adding the objective function: a weighted sum of the decision variables, with as weight the log-probability of that decision variable being equal to the corresponding predicted value.\n",
    "\n",
    "E.g. $\\sum_i \\sum_j \\sum_c log(prob[i,j,c])*[V[i,j] == c]$\n",
    "\n",
    "Note that the only thing that changes is adding the objective, so you can reuse model_sudoku_ort() of an empty grid!!\n",
    "\n",
    "We assume that cells containing given clues are available through a $is\\_given$ boolean matrix. \n",
    "\n"
   ]
  },
  {
   "cell_type": "code",
   "execution_count": null,
   "metadata": {},
   "outputs": [],
   "source": [
    "from ortools.sat.python import cp_model\n",
    "\n",
    "def solve_vizsudoku_ort(probs, is_given):\n",
    "    # the constraint model\n",
    "    empty_grid = torch.zeros((9,9), dtype=torch.int)\n",
    "    csp, x = model_sudoku_ort(empty_grid)\n",
    "    \n",
    "    # TODO: add the objective function!!\n",
    "    \n",
    "    solver = cp_model.CpSolver()\n",
    "    status = solver.Solve(csp) \n",
    "    solution = np.zeros((9,9))\n",
    "    if status == cp_model.OPTIMAL or status == cp_model.FEASIBLE :\n",
    "        for i in range(9):\n",
    "            for j in range(9):\n",
    "                solution[i,j] = int(solver.Value(x[i][j]))\n",
    "        return solution \n",
    "\n",
    "is_given = sudoku_p0 > 0\n",
    "vsudoku = sample_visual_sudoku(sudoku_p0, testloader)\n",
    "\n",
    "probs = predict_proba_sudoku(model, vsudoku)\n",
    "is_given\n",
    "psol = solve_vizsudoku_ort(probs, is_given)\n",
    "psol"
   ]
  },
  {
   "source": [
    "# Visualizing prediction error\n",
    "\n",
    "Our trained Neural network classifies an image correctly if it assigns the highest score to the true label. Thus, we can assess the accuracy of the model by comparing maximum likelihood labels against labels in the numerical instance. "
   ],
   "cell_type": "markdown",
   "metadata": {}
  },
  {
   "cell_type": "code",
   "execution_count": null,
   "metadata": {},
   "outputs": [],
   "source": [
    "ml_digits = np.argmax(probs.numpy(), -1) \n",
    "\n",
    "fig, axes = plt.subplots(9, 9, figsize=(1.5*9,2*9))\n",
    "for i in range(9*9):\n",
    "    \n",
    "    ax = axes[i//9, i%9]\n",
    "    c = 'gray' if ml_digits.reshape(-1)[i] == sudoku_p0.reshape(-1)[i] else 'autumn'\n",
    "    if not is_given.reshape(-1)[i]:\n",
    "        # ignore cell with zero display black square instead\n",
    "        ax.imshow(torch.zeros(28,28).float(), cmap='gray')\n",
    "        ax.set_axis_off()\n",
    "        continue\n",
    "    ax.imshow(vsudoku.view(-1,28,28)[i].squeeze(), cmap=c)\n",
    "\n",
    "    # replace 0 with blanks and don't show their label  \n",
    "    ax.set_title('Label: {}'.format(ml_digits.reshape(-1)[i]))\n",
    "    ax.set_axis_off()"
   ]
  },
  {
   "cell_type": "code",
   "execution_count": null,
   "metadata": {},
   "outputs": [],
   "source": [
    "## fetch images to fill empty cells\n",
    "digit_indices = {k:np.where(testset.targets == k) for k in range(1,10)}\n",
    "digit_supply = {k:len(v[0]) for k,v in digit_indices.items()}\n",
    "imgs_supply = {k:testset.data[digit_indices[k]] for k in range(1,10)}\n",
    "\n",
    "##helper function to plot and compare solution found with hybrid approach\n",
    "def plot_vs(visualsudoku, output, is_given, ml_digits, solution):\n",
    "    n = 9\n",
    "    fig, axes = plt.subplots(n, n, figsize=(1.5*n,2*n))\n",
    "\n",
    "    for i in range(n*n):\n",
    "        ax = axes[i//n, i%n]\n",
    "        # sample image wrt solver output\n",
    "        img = torch.zeros(28,28).float()\n",
    "        c = 'gray'\n",
    "        if not is_given.reshape(-1)[i]:\n",
    "            # cell filled by the solver in gray\n",
    "            img = imgs_supply[output.reshape(-1)[i]][0]\n",
    "        else:\n",
    "            img = visualsudoku.view(-1, 28,28)[i].squeeze()\n",
    "            # wrong given -> red\n",
    "            # given fixed by cp -> green\n",
    "            c = 'gray' if output.reshape(-1)[i] == ml_digits.reshape(-1)[i] else 'summer'\n",
    "\n",
    "        c = 'autumn' if output.reshape(-1)[i] != solution.reshape(-1)[i] else c\n",
    "\n",
    "        if c == 'summer':\n",
    "            ax.set_title('ML label: {}\\nsolver label: {}'.format(ml_digits.reshape(-1)[i], output.reshape(-1)[i]))\n",
    "        elif c == 'autumn':\n",
    "            ax.set_title('solver label: {}\\nTrue label: {}'.format(output.reshape(-1)[i], solution.reshape(-1)[i]))\n",
    "            \n",
    "        ax.imshow(img, cmap=c)\n",
    "        ax.set_axis_off()"
   ]
  },
  {
   "cell_type": "code",
   "execution_count": null,
   "metadata": {},
   "outputs": [],
   "source": [
    "plot_vs(vsudoku, psol, is_given, ml_digits, sol)"
   ]
  }
 ],
 "metadata": {
  "kernelspec": {
   "display_name": "Python 3",
   "language": "python",
   "name": "python3"
  },
  "language_info": {
   "codemirror_mode": {
    "name": "ipython",
    "version": 3
   },
   "file_extension": ".py",
   "mimetype": "text/x-python",
   "name": "python",
   "nbconvert_exporter": "python",
   "pygments_lexer": "ipython3",
   "version": "3.7.9-final"
  }
 },
 "nbformat": 4,
 "nbformat_minor": 2
}